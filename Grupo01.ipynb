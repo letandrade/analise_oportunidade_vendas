{
 "cells": [
  {
   "cell_type": "markdown",
   "metadata": {},
   "source": [
    "# Projeto Final - (A -Tech)"
   ]
  },
  {
   "cell_type": "markdown",
   "metadata": {},
   "source": [
    "## Clusterização"
   ]
  },
  {
   "cell_type": "markdown",
   "metadata": {},
   "source": [
    "#### Para ajudar a A-Tech a definir uma estratégia de venda alinhada com as características de suas lojas e fatores externos vamos aplicar a técnica de clusterização com o objetivo de agrupar as lojas em grupos de tal forma que dentro de cada grupo as lojas sejam semelhantes e distintas entre os grupos."
   ]
  },
  {
   "cell_type": "code",
   "execution_count": null,
   "metadata": {},
   "outputs": [],
   "source": [
    "# Bibliotecas"
   ]
  },
  {
   "cell_type": "code",
   "execution_count": null,
   "metadata": {},
   "outputs": [],
   "source": [
    "import pandas as pd\n",
    "import numpy as np\n",
    "import matplotlib.pyplot as plt\n",
    "%matplotlib inline \n",
    "import seaborn as snb\n",
    "import datetime\n",
    "import statistics\n",
    "from plotly.subplots import make_subplots\n",
    "import plotly.graph_objects as go\n",
    "import plotly.express as px\n",
    "import plotly.io as pio\n",
    "import matplotlib.pyplot as plt\n",
    "from ipywidgets import interact, IntSlider\n",
    "from sklearn.cluster import KMeans\n",
    "from sklearn.metrics import silhouette_score\n",
    "from scipy.cluster.hierarchy import dendrogram, linkage\n",
    "from sklearn.cluster import AgglomerativeClustering\n",
    "from sklearn.preprocessing import StandardScaler"
   ]
  },
  {
   "cell_type": "code",
   "execution_count": null,
   "metadata": {},
   "outputs": [],
   "source": [
    "### Importando os dados"
   ]
  },
  {
   "cell_type": "code",
   "execution_count": null,
   "metadata": {},
   "outputs": [],
   "source": [
    "# Dataset lojas\n",
    "lojas = pd.read_csv('lojas.csv',sep=',',decimal='.',header = 'infer')\n",
    "lojas.head()"
   ]
  },
  {
   "cell_type": "code",
   "execution_count": null,
   "metadata": {},
   "outputs": [],
   "source": [
    "lojas"
   ]
  },
  {
   "cell_type": "code",
   "execution_count": null,
   "metadata": {},
   "outputs": [],
   "source": [
    "lojas.info()"
   ]
  },
  {
   "cell_type": "code",
   "execution_count": null,
   "metadata": {},
   "outputs": [],
   "source": [
    "# Tansformando o tipo\n",
    "lojas['loja'] = lojas['loja'].astype('str')\n",
    "lojas['tipo_de_loja']= lojas['tipo_de_loja'].astype('str')\n",
    "lojas.info()"
   ]
  },
  {
   "cell_type": "code",
   "execution_count": null,
   "metadata": {},
   "outputs": [],
   "source": [
    "# Dataset outras_variaveis\n",
    "outras_variaveis = pd.read_csv('outras_variaveis.csv',sep=',',decimal='.',header = 'infer')\n",
    "outras_variaveis.head()"
   ]
  },
  {
   "cell_type": "code",
   "execution_count": null,
   "metadata": {},
   "outputs": [],
   "source": [
    "outras_variaveis.info()"
   ]
  },
  {
   "cell_type": "code",
   "execution_count": null,
   "metadata": {},
   "outputs": [],
   "source": [
    "# Tansformando o tipo\n",
    "outras_variaveis['loja'] = outras_variaveis['loja'].astype('str')\n",
    "outras_variaveis['data'] = pd.to_datetime(outras_variaveis.data,infer_datetime_format=True, format=\"%d/%m/%Y\")"
   ]
  },
  {
   "cell_type": "code",
   "execution_count": null,
   "metadata": {},
   "outputs": [],
   "source": [
    "print(outras_variaveis.data.max())\n",
    "print(outras_variaveis.data.min())"
   ]
  },
  {
   "cell_type": "code",
   "execution_count": null,
   "metadata": {},
   "outputs": [],
   "source": [
    "outras_variaveis.info()\n",
    "outras_variaveis.head()"
   ]
  },
  {
   "cell_type": "code",
   "execution_count": null,
   "metadata": {},
   "outputs": [],
   "source": [
    "# Dataset vendas\n",
    "vendas = pd.read_csv('vendas.csv',sep=',',decimal='.',header = 'infer')\n",
    "vendas.head()"
   ]
  },
  {
   "cell_type": "code",
   "execution_count": null,
   "metadata": {},
   "outputs": [],
   "source": [
    "vendas.info()"
   ]
  },
  {
   "cell_type": "code",
   "execution_count": null,
   "metadata": {},
   "outputs": [],
   "source": [
    "# Tansformando o tipo\n",
    "vendas['loja'] = vendas['loja'].astype('str')\n",
    "vendas['departamento'] = vendas['departamento'].astype('str')\n",
    "vendas['data'] = pd.to_datetime(vendas.data,infer_datetime_format=True, format=\"%d/%m/%Y\")\n",
    "vendas['semana_de_evento'] = vendas['semana_de_evento'].astype('str')"
   ]
  },
  {
   "cell_type": "code",
   "execution_count": null,
   "metadata": {},
   "outputs": [],
   "source": [
    "#Máxima e mínima data de venda\n",
    "print(vendas.data.min())\n",
    "print(vendas.data.max())"
   ]
  },
  {
   "cell_type": "code",
   "execution_count": null,
   "metadata": {},
   "outputs": [],
   "source": [
    "vendas.info()\n",
    "vendas.head()"
   ]
  },
  {
   "cell_type": "code",
   "execution_count": null,
   "metadata": {},
   "outputs": [],
   "source": [
    "lojas.shape"
   ]
  },
  {
   "cell_type": "code",
   "execution_count": null,
   "metadata": {},
   "outputs": [],
   "source": [
    "outras_variaveis.shape"
   ]
  },
  {
   "cell_type": "code",
   "execution_count": null,
   "metadata": {},
   "outputs": [],
   "source": [
    "vendas.shape"
   ]
  },
  {
   "cell_type": "code",
   "execution_count": null,
   "metadata": {},
   "outputs": [],
   "source": [
    "# Left Join - Vendas e lojas\n",
    "df_aux = vendas.merge(lojas, on='loja', how='left')\n",
    "df_aux['data'] = pd.to_datetime(df_aux.data)\n",
    "vendas['loja'] = vendas['loja'].astype('str')\n",
    "df_aux.head()"
   ]
  },
  {
   "cell_type": "code",
   "execution_count": null,
   "metadata": {},
   "outputs": [],
   "source": [
    "df_aux.isnull().sum()"
   ]
  },
  {
   "cell_type": "code",
   "execution_count": null,
   "metadata": {},
   "outputs": [],
   "source": [
    "df_aux.shape"
   ]
  },
  {
   "cell_type": "code",
   "execution_count": null,
   "metadata": {},
   "outputs": [],
   "source": [
    "# Left Join - Vendas, lojas e outras variáveis\n",
    "df = df_aux.merge(outras_variaveis, on=['loja','data'], how='left')\n",
    "df.head()"
   ]
  },
  {
   "cell_type": "code",
   "execution_count": null,
   "metadata": {},
   "outputs": [],
   "source": [
    "#Valores em branco em pc, IPC e td\n",
    "df.isnull().sum()"
   ]
  },
  {
   "cell_type": "code",
   "execution_count": null,
   "metadata": {},
   "outputs": [],
   "source": [
    "### Ajustando variáveis para o K-means (Feature Engineering)"
   ]
  },
  {
   "cell_type": "code",
   "execution_count": null,
   "metadata": {},
   "outputs": [],
   "source": [
    "#Ajustando o df do K-means\n",
    "df_cluster = df\n",
    "\n",
    "# Drop departamento - Não vamos usar os departamentos na análise de cluster para lojas\n",
    "df_cluster = df_cluster.drop(df.columns[1], axis=1)\n",
    "\n",
    "# Drop evento - Já temos a variável semana de evento do dataset de vendas, vamos dropar a variável evento\n",
    "df_cluster = df_cluster.drop(df.columns[10], axis=1)\n",
    "\n",
    "df_cluster"
   ]
  },
  {
   "cell_type": "code",
   "execution_count": null,
   "metadata": {},
   "outputs": [],
   "source": [
    "# Concatena as colunas criadas ao dataframe\n",
    "#dummy semana_de_evento\n",
    "df_cluster = pd.concat([df_cluster.drop(\"semana_de_evento\", axis=1), pd.get_dummies(df_cluster.semana_de_evento)], axis=1)\n",
    "df_cluster.head()"
   ]
  },
  {
   "cell_type": "code",
   "execution_count": null,
   "metadata": {},
   "outputs": [],
   "source": [
    "# Concatena as colunas criadas ao dataframe\n",
    "# dummy tipo de loja\n",
    "df_cluster = pd.concat([df_cluster.drop(\"tipo_de_loja\", axis=1), pd.get_dummies(df_cluster.tipo_de_loja)], axis=1)\n",
    "df_cluster.head()"
   ]
  },
  {
   "cell_type": "code",
   "execution_count": null,
   "metadata": {},
   "outputs": [],
   "source": [
    "# Data máxima e mínima\n",
    "# Qtd de dias entre\n",
    "\n",
    "print(df_cluster.data.max())\n",
    "print(df_cluster.data.min())\n",
    "qtd_dias_entre = (df_cluster.data.max() - df_cluster.data.min()).days\n",
    "print(qtd_dias_entre)"
   ]
  },
  {
   "cell_type": "code",
   "execution_count": null,
   "metadata": {},
   "outputs": [],
   "source": [
    "# Agrega tabela em nível cliente\n",
    "aggregations = {\n",
    "        'venda_semanal': ['sum','count'],\n",
    "        'tamanho': 'max',\n",
    "        'preco_combustivel':  'median',\n",
    "        'IPC': 'median',\n",
    "        'taxa_desemprego':  'median',\n",
    "        'True':  'sum',\n",
    "        'A': 'unique',\n",
    "        'B': 'unique',\n",
    "        'C': 'unique'\n",
    "}\n",
    "\n",
    "df_cluster_2 = df_cluster.groupby('loja', observed=True,as_index=False).agg(aggregations)\n",
    "df_cluster_2"
   ]
  },
  {
   "cell_type": "code",
   "execution_count": null,
   "metadata": {},
   "outputs": [],
   "source": [
    "df_cluster_2.info()"
   ]
  },
  {
   "cell_type": "code",
   "execution_count": null,
   "metadata": {},
   "outputs": [],
   "source": [
    "# Nomeando as colunas\n",
    "df_cluster_2 = df_cluster_2.set_axis(['loja', 'valor_venda','qtd_venda','tamanho','mediana_pc','mediana_ipc','mediana_td','qtd_eventos','A','B','C'], axis=1, inplace=False)"
   ]
  },
  {
   "cell_type": "code",
   "execution_count": null,
   "metadata": {},
   "outputs": [],
   "source": [
    "# Calculando a proporção de eventos em relação a qtd de dias entre a data máx e mín\n",
    "df_cluster_2['prop_evento'] = df_cluster_2['qtd_eventos']/qtd_dias_entre\n",
    "\n",
    "# Excluindo a coluna qtd_eventos\n",
    "df_cluster_2 = df_cluster_2.drop(df_cluster_2.columns[7], axis=1)"
   ]
  },
  {
   "cell_type": "code",
   "execution_count": null,
   "metadata": {},
   "outputs": [],
   "source": [
    "df_cluster_2"
   ]
  },
  {
   "cell_type": "code",
   "execution_count": null,
   "metadata": {},
   "outputs": [],
   "source": [
    "# Vamor criar a variável venda/tamanho\n",
    "df_cluster_2['venda_tamanho'] = (df_cluster_2.valor_venda)/(df_cluster_2.tamanho)"
   ]
  },
  {
   "cell_type": "code",
   "execution_count": null,
   "metadata": {},
   "outputs": [],
   "source": [
    "df_cluster_2  = df_cluster_2.reindex(columns=['loja', 'valor_venda','qtd_venda','tamanho','mediana_pc','mediana_ipc','mediana_td','prop_evento','venda_tamanho','A','B','C'])"
   ]
  },
  {
   "cell_type": "code",
   "execution_count": null,
   "metadata": {},
   "outputs": [],
   "source": [
    "### Análise exploratória dos dados"
   ]
  },
  {
   "cell_type": "code",
   "execution_count": null,
   "metadata": {},
   "outputs": [],
   "source": [
    "df_cluster_2"
   ]
  },
  {
   "cell_type": "code",
   "execution_count": null,
   "metadata": {},
   "outputs": [],
   "source": [
    "df_cluster_2.info()"
   ]
  },
  {
   "cell_type": "code",
   "execution_count": null,
   "metadata": {},
   "outputs": [],
   "source": [
    "# Correlação - agrupamento por loja\n",
    "snb.set(rc = {'figure.figsize':(10,8)})\n",
    "snb.heatmap(df_cluster_2.corr(), annot = True, fmt=\".2f\", linewidths=.6)"
   ]
  },
  {
   "cell_type": "code",
   "execution_count": null,
   "metadata": {},
   "outputs": [],
   "source": [
    "# Dispersão - Loja e Tamanho\n",
    "\n",
    "plt.figure(figsize=(10, 6)) \n",
    "snb.scatterplot(x='loja', \n",
    "                y='tamanho', \n",
    "                      sizes=(20, 500), \n",
    "                alpha=1, \n",
    "                hue='tipo_de_loja', \n",
    "                data=lojas) \n",
    "plt.legend(bbox_to_anchor=(1, 1), borderaxespad=0) \n",
    "plt.xlabel(\"Loja\") \n",
    "plt.ylabel(\"Tamanho\") \n",
    "plt.title(\"Tamanho por Loja\") \n",
    "plt.tight_layout()"
   ]
  },
  {
   "cell_type": "code",
   "execution_count": null,
   "metadata": {},
   "outputs": [],
   "source": [
    "#Valor de venda por loja\n",
    "venda_loja = df.groupby('loja', as_index=False)['venda_semanal'].sum()\n",
    "venda_loja = venda_loja.set_axis(['Loja', 'Valor de venda'], axis=1, inplace=False)\n",
    "venda_loja = venda_loja.sort_values(by=['Valor de venda'],ascending=False)\n",
    "fig = px.bar(venda_loja, x=venda_loja['Loja'], y=venda_loja['Valor de venda'], title=\"Valor de venda total por loja\")\n",
    "fig.update_layout(\n",
    "    width=800,\n",
    "    height=400,\n",
    "    showlegend=False)\n",
    "fig.show()"
   ]
  },
  {
   "cell_type": "code",
   "execution_count": null,
   "metadata": {},
   "outputs": [],
   "source": [
    "# Venda por departamento\n",
    "venda_dep = df.groupby('departamento', as_index=False)['venda_semanal'].sum()\n",
    "venda_dep = venda_dep.set_axis(['Departamento', 'Valor de venda'], axis=1, inplace=False)\n",
    "venda_dep = venda_dep.sort_values(by=['Valor de venda'],ascending=False)\n",
    "fig = px.bar(venda_dep,x='Departamento',y='Valor de venda', title=\"Valor de venda total por departamento\")\n",
    "fig.update_layout(\n",
    "    width=1000,\n",
    "    height=600,\n",
    "    showlegend=False)\n",
    "fig.show()"
   ]
  },
  {
   "cell_type": "code",
   "execution_count": null,
   "metadata": {
    "scrolled": false
   },
   "outputs": [],
   "source": [
    "#Venda com incidência de evento\n",
    "venda_dia = df.groupby(['data'], as_index=True).agg({'evento':  'mean',\n",
    "                                                       'venda_semanal': 'sum'})\n",
    "ax = venda_dia['venda_semanal'].plot()\n",
    "venda_dia['venda_semanal'].loc[venda_dia['evento'] == 1].plot(ax=ax, kind='line',\n",
    "                                                              marker='h',linestyle = 'None',\n",
    "                                                              legend=True, label='Feriado', color='red')\n",
    "\n",
    "plt.title('Valor de venda por semana')\n",
    "plt.xlabel('Data')\n",
    "plt.ylabel('Valor de venda')"
   ]
  },
  {
   "cell_type": "code",
   "execution_count": null,
   "metadata": {},
   "outputs": [],
   "source": [
    "# Visualizando o comportamento das variáveis por loja ao longo do tempo\n",
    "aggregations = {'evento':  'mean',\n",
    "                'preco_combustivel': 'mean',\n",
    "                'IPC': 'mean',\n",
    "                'taxa_desemprego': 'mean',\n",
    "                'venda_semanal': 'sum'}\n",
    "df.reset_index(inplace=True)\n",
    "plot_loja = df.groupby(['data','loja'], as_index=False).agg(aggregations)\n",
    "plot_loja['loja'] = plot_loja['loja'].astype('int')\n",
    "df.set_index('data', inplace=True)\n",
    "plot_loja.set_index('data', inplace=True)\n",
    "\n",
    "def plot_serie(loja):\n",
    "    plt.rc(\"figure\",figsize=(8,4))\n",
    "    ax = plot_loja[['venda_semanal']].loc[(plot_loja['loja'] == loja)].plot(legend=False)\n",
    "    plot_loja[['venda_semanal']].loc[(plot_loja['loja'] == loja) & (plot_loja['evento'] == 1)].plot(ax=ax,\n",
    "                                                                                                    kind='line',\n",
    "                                                                                                    marker='h',\n",
    "                                                                                                    linestyle = 'None',\n",
    "                                                                                                    legend=False, color='red')\n",
    "    plt.title('Valor de venda semanal por loja')\n",
    "    plt.xlabel('Data')\n",
    "    plt.ylabel('Valor de venda')\n",
    "\n",
    "    plot_loja[['preco_combustivel',\n",
    "               'IPC',\n",
    "               'taxa_desemprego'\n",
    "              ]].loc[(plot_loja['loja'] == loja)].plot(subplots=True,\n",
    "                                                       title='Valores de dados regionais por loja',\n",
    "                                                       xlabel='Data')\n",
    "    \n",
    "    plt.show()\n",
    "    \n",
    "# Criando o Slider interativo\n",
    "_ = interact(plot_serie,\n",
    "             loja=IntSlider(min=plot_loja.loja.min(), max=plot_loja.loja.max(), step = 1, value = 1),\n",
    "             )"
   ]
  },
  {
   "cell_type": "code",
   "execution_count": null,
   "metadata": {},
   "outputs": [],
   "source": [
    "### Padronizando os dados"
   ]
  },
  {
   "cell_type": "code",
   "execution_count": null,
   "metadata": {},
   "outputs": [],
   "source": [
    "# Padronizando as variáveis\n",
    "escala=StandardScaler()\n",
    "df_cluster_3 = pd.DataFrame(escala.fit_transform(df_cluster_2.iloc[:,1:9]),columns=['std_valor_venda','std_qtd_venda','std_tamanho','std_media_pc','std_media_ipc','std_media_td','std_prop_evento','std_venda_tamanho'])"
   ]
  },
  {
   "cell_type": "code",
   "execution_count": null,
   "metadata": {},
   "outputs": [],
   "source": [
    "df_cluster_3"
   ]
  },
  {
   "cell_type": "code",
   "execution_count": null,
   "metadata": {},
   "outputs": [],
   "source": [
    "#Adicionando as colunas A, B e C\n",
    "df_cluster_4 = pd.concat([df_cluster_3, df_cluster_2], axis=1)\n",
    "df_cluster_4.info()\n",
    "df_cluster_4.head()"
   ]
  },
  {
   "cell_type": "code",
   "execution_count": null,
   "metadata": {},
   "outputs": [],
   "source": [
    "# Dropando o que não está padronizado\n",
    "df_cluster_4 = df_cluster_4.drop(df_cluster_4.columns[9:17], axis=1)"
   ]
  },
  {
   "cell_type": "code",
   "execution_count": null,
   "metadata": {},
   "outputs": [],
   "source": [
    "df_cluster_4"
   ]
  },
  {
   "cell_type": "code",
   "execution_count": null,
   "metadata": {},
   "outputs": [],
   "source": [
    "# Loja como índice\n",
    "df_cluster_5 = df_cluster_4.set_index(['loja'])\n",
    "df_cluster_5"
   ]
  },
  {
   "cell_type": "code",
   "execution_count": null,
   "metadata": {},
   "outputs": [],
   "source": [
    "# Cálculo das iterações do k-means (Cotovelo)\n",
    "# O número de iterações é subjetivo, utilizou-se 10, pois com esse número é possível avaliar\n",
    "# o ponto de flexão da curva, mas se desejar é possível testar com valor maior ou menor\n",
    "\n",
    "wcss = {}\n",
    "for k in range(1, 15):\n",
    "  print(k)\n",
    "  kmeans = KMeans(n_clusters=k, init='k-means++', max_iter=200, random_state=3)\n",
    "  kmeans.fit(df_cluster_5)\n",
    "  wcss[k] = kmeans.inertia_\n",
    "\n",
    "# No código abaixo será gerado o gráfico que permite aplicação do método do \"cotovelo\"\n",
    "fig = make_subplots(\n",
    "    rows=1,\n",
    "    cols=1,\n",
    "    subplot_titles=['Método do Cotovelo'],\n",
    "    shared_xaxes=True,\n",
    "    shared_yaxes=False)\n",
    "\n",
    "\n",
    "fig.add_trace(\n",
    "    go.Scatter(\n",
    "        x=list(wcss.keys()),\n",
    "        y=list(wcss.values()),\n",
    "        mode='lines+markers',\n",
    "        textposition='top center',\n",
    "        showlegend=False),\n",
    "    row=1, \n",
    "    col=1)\n",
    "\n",
    "fig.update_xaxes(visible=True, title='N° de clusters',row=1, col=1)\n",
    "fig.update_yaxes(visible=True, title='Soma dos quadrados totais dos clusters',row=1, col=1)\n",
    "\n",
    "fig.update_layout(\n",
    "  title='Definição do Nº Ideal de Clusters',\n",
    "  showlegend=False,\n",
    "  xaxis_showticklabels=True,\n",
    "  height=400,\n",
    "  width=800,\n",
    "  xaxis = dict(\n",
    "    tickmode = 'linear',\n",
    "    tick0 = 0,\n",
    "    dtick = 1))\n",
    "\n",
    "fig.show()"
   ]
  },
  {
   "cell_type": "code",
   "execution_count": null,
   "metadata": {},
   "outputs": [],
   "source": [
    "# Definição do DF a ser Clusterizado\n",
    "df_cluster_km = df_cluster_5.copy()\n",
    "\n",
    "# Clusterização\n",
    "clus = KMeans(n_clusters=5, init='k-means++', max_iter=300,random_state=3)\n",
    "clus.fit(df_cluster_km)\n",
    "\n",
    "# Ajustando as colunas\n",
    "#df_cluster_km['CLUSTER'] = clus.labels_\n",
    "df_cluster_km.loc[:, 'CLUSTER'] = clus.labels_\n",
    "df_cluster_km.head()"
   ]
  },
  {
   "cell_type": "code",
   "execution_count": null,
   "metadata": {},
   "outputs": [],
   "source": [
    "# Volumetria por Categoricas\n",
    "df_cluster_km['CLUSTER'].value_counts().plot(kind=\"bar\",color = ['b','r','m','g','orange'])\n",
    "plt.title('Qtd de lojas por Cluster')\n",
    "plt.xlabel('Cluster')\n",
    "plt.ylabel('Qtd de lojas')\n",
    "plt.show()"
   ]
  },
  {
   "cell_type": "code",
   "execution_count": null,
   "metadata": {},
   "outputs": [],
   "source": [
    "# Cluster\n",
    "# Dataset não padronizado\n",
    "df_cluster_2.loc[:, 'CLUSTER'] = clus.labels_\n",
    "df_cluster_2.head()"
   ]
  },
  {
   "cell_type": "code",
   "execution_count": null,
   "metadata": {},
   "outputs": [],
   "source": [
    "# Dispersão do valor de venda por cluster\n",
    "snb.lmplot( x=\"CLUSTER\", y=\"valor_venda\", data=df_cluster_2, fit_reg=False, hue='CLUSTER', legend=True)\n",
    "plt.title('Valor de venda por Cluster')\n",
    "plt.xlabel('Cluster')\n",
    "plt.ylabel('Valor de venda')"
   ]
  },
  {
   "cell_type": "code",
   "execution_count": null,
   "metadata": {},
   "outputs": [],
   "source": [
    "# Coordenadas Paralelas\n",
    "fig = px.parallel_coordinates(df_cluster_2, color=\"CLUSTER\",)\n",
    "fig.update_layout(\n",
    "    title={\n",
    "        'text': \"Cluster analysis\",\n",
    "        'y':1\n",
    "        },\n",
    "    height=500,\n",
    "    width=1000)\n",
    "fig.show()"
   ]
  },
  {
   "cell_type": "code",
   "execution_count": null,
   "metadata": {},
   "outputs": [],
   "source": [
    "#analise_grupo_mean"
   ]
  },
  {
   "cell_type": "code",
   "execution_count": null,
   "metadata": {},
   "outputs": [],
   "source": [
    "# Coordenadas Paralelas\n",
    "# Variáveis utilizadas na clusterização\n",
    "\n",
    "aggregations = {\n",
    "        'valor_venda': 'mean',\n",
    "        'qtd_venda': 'mean',\n",
    "        'tamanho':  'mean',\n",
    "        'mediana_pc': 'mean',\n",
    "        'mediana_ipc': 'mean',\n",
    "        'mediana_td':  'mean',\n",
    "        'prop_evento':  'mean',\n",
    "        'venda_tamanho': 'mean'\n",
    "        \n",
    "}\n",
    "\n",
    "analise_grupo_mean = df_cluster_2.groupby(['CLUSTER']).agg(aggregations).reset_index()\n",
    "analise_grupo_mean.head()\n",
    "\n",
    "fig = px.parallel_coordinates(analise_grupo_mean, color='CLUSTER',labels={\n",
    "                                             'valor_venda':'Venda',\n",
    "                                             'qtd_venda':'Qtd de venda',\n",
    "                                             'tamanho':'Tamanho',\n",
    "                                             'mediana_pc':'Preço do combustível',\n",
    "                                             'mediana_ipc': 'IPC',\n",
    "                                             'mediana_td':'Taxa de desemprego',\n",
    "                                             'prop_evento':'Prop. evento',\n",
    "                                             'venda_tamanho':'Venda/tamanho'\n",
    "                                             })\n",
    "fig.update_layout(\n",
    "    title={\n",
    "        'text': \"Análise de cluster - Média\",\n",
    "        'y':1\n",
    "        },\n",
    "    height=500,\n",
    "    width=1000)\n",
    "fig.show()"
   ]
  },
  {
   "cell_type": "code",
   "execution_count": null,
   "metadata": {},
   "outputs": [],
   "source": [
    "# Distribuição de valor_venda por CLUSTER\n",
    "\n",
    "plt.figure(figsize=(10, 5))\n",
    "\n",
    "# plot a bar chart\n",
    "snb.barplot(\n",
    "    y=\"valor_venda\", \n",
    "    x=\"CLUSTER\", \n",
    "    data=df_cluster_2, \n",
    "    estimator=sum, \n",
    "    ci=None );\n",
    "\n",
    "plt.title('Valor de venda por Cluster')\n",
    "plt.xlabel('Cluster')\n",
    "plt.ylabel('Valor de venda')"
   ]
  },
  {
   "cell_type": "code",
   "execution_count": null,
   "metadata": {},
   "outputs": [],
   "source": [
    "# Distribuição de qtd_venda por CLUSTER\n",
    "# Set the figure size\n",
    "plt.figure(figsize=(10, 5))\n",
    "\n",
    "# plot a bar chart\n",
    "snb.barplot(\n",
    "    y=\"qtd_venda\", \n",
    "    x=\"CLUSTER\", \n",
    "    data=df_cluster_2, \n",
    "    estimator=sum, \n",
    "    ci=None );\n",
    "\n",
    "plt.title('Qtd de venda por Cluster')\n",
    "plt.xlabel('Cluster')\n",
    "plt.ylabel('Qtd de venda')"
   ]
  },
  {
   "cell_type": "code",
   "execution_count": null,
   "metadata": {},
   "outputs": [],
   "source": [
    "# Distribuição de tamanho por CLUSTER\n",
    "# Set the figure size\n",
    "plt.figure(figsize=(10, 5))\n",
    "\n",
    "# plot a bar chart\n",
    "snb.barplot(\n",
    "    y=\"tamanho\", \n",
    "    x=\"CLUSTER\", \n",
    "    data=df_cluster_2, \n",
    "    estimator=sum, \n",
    "    ci=None );\n",
    "\n",
    "plt.title('Metragem (m²) por Cluster')\n",
    "plt.xlabel('Cluster')\n",
    "plt.ylabel('Tamanho')"
   ]
  },
  {
   "cell_type": "code",
   "execution_count": null,
   "metadata": {},
   "outputs": [],
   "source": [
    "plt.figure(figsize=(10, 5))\n",
    "snb.boxplot(x= df_cluster_2['CLUSTER'], y=df_cluster_2['tamanho'], data=df_cluster_2).set(title='Tamanho total por Cluster', ylabel = 'Tamanho m²',xlabel = 'Cluster')"
   ]
  },
  {
   "cell_type": "code",
   "execution_count": null,
   "metadata": {},
   "outputs": [],
   "source": [
    "# Distribuição da média de preço do combustível por CLUSTER\n",
    "snb.boxplot(x= df_cluster_2['CLUSTER'], y=df_cluster_2['mediana_pc'], data=df_cluster_2).set(title='Preço médio do combustível por Cluster', ylabel = 'Preço médio do combustível',xlabel = 'Cluster')"
   ]
  },
  {
   "cell_type": "code",
   "execution_count": null,
   "metadata": {},
   "outputs": [],
   "source": [
    "# Distribuição da média do IPC por CLUSTER\n",
    "snb.boxplot(x= df_cluster_2['CLUSTER'], y=df_cluster_2['mediana_ipc'], data=df_cluster_2).set(title='IPC médio por Cluster', ylabel = 'IPC médio',xlabel = 'Cluster')"
   ]
  },
  {
   "cell_type": "code",
   "execution_count": null,
   "metadata": {},
   "outputs": [],
   "source": [
    "# Distribuição da média da taxa de desemprego por CLUSTER\n",
    "snb.boxplot(x= df_cluster_2['CLUSTER'], y=df_cluster_2['mediana_td'], data=df_cluster_2).set(title='Média da taxa de desemprego por Cluster', ylabel = 'Média da taxa de desemprego',xlabel = 'Cluster')"
   ]
  },
  {
   "cell_type": "code",
   "execution_count": null,
   "metadata": {},
   "outputs": [],
   "source": [
    "# Distribuição da proporção de eventos por CLUSTER\n",
    "snb.boxplot(x= df_cluster_2['CLUSTER'], y=df_cluster_2['prop_evento'], data=df_cluster_2).set(title='Proporção de eventos por Cluster', ylabel = 'Proporção de eventos ',xlabel = 'Cluster')"
   ]
  },
  {
   "cell_type": "code",
   "execution_count": null,
   "metadata": {},
   "outputs": [],
   "source": [
    "# Distribuição da Proporção de venda/tamanho\n",
    "snb.boxplot(x= df_cluster_2['CLUSTER'], y=df_cluster_2['venda_tamanho'], data=df_cluster_2).set(title='Proporção de venda/tamanho por Cluster', ylabel = 'Venda/tamanho ',xlabel = 'Cluster')"
   ]
  },
  {
   "cell_type": "code",
   "execution_count": null,
   "metadata": {},
   "outputs": [],
   "source": [
    "df_cluster_2.to_csv(\"teste.csv\", sep=\";\", decimal='.')"
   ]
  },
  {
   "cell_type": "markdown",
   "metadata": {},
   "source": [
    "# Previsão de vendas "
   ]
  },
  {
   "cell_type": "markdown",
   "metadata": {},
   "source": [
    "###### Utilizaremos como técnica de previsão a série temporal (ARIMA) por ser o método que apresentou melhor resultado (MAE e MAPE).\n",
    "###### As previsão serão feitas até o dia 26/04/2013, data  que representa o período de 6 meses.\n",
    "###### Faremos previsões da venda semanal apenas por loja.\n",
    "###### Utilizaremos a função auto_arima para encontrar o melhor modelo.\n",
    "\n",
    "######  Entregas:\n",
    "######   - Modelo de previsão de venda de todas as lojas;\n",
    "######  - Modelo de previsão de venda para cada loja ( As lojas escolhidas foram as lojas do cluster 0 e 4 por representarem 44% da venda total de 05/05/2010 a 26/10/2012);\n",
    "######  - Modelo de previsão da venda média de lojas do cluster 0; \n",
    "######   - Modelo de previsão da venda média de lojas do cluster 4."
   ]
  },
  {
   "cell_type": "code",
   "execution_count": null,
   "metadata": {},
   "outputs": [],
   "source": [
    "# importando bibliotecas utilizadas\n",
    "import pandas as pd\n",
    "import numpy as np\n",
    "import matplotlib.pyplot as plt\n",
    "%matplotlib inline \n",
    "import seaborn as snb\n",
    "import datetime\n",
    "from plotly.subplots import make_subplots\n",
    "import plotly.graph_objects as go\n",
    "import plotly.express as px\n",
    "import plotly.io as pio\n",
    "import matplotlib.pyplot as plt\n",
    "from statsmodels.tsa.seasonal import seasonal_decompose\n",
    "from pmdarima.arima import auto_arima"
   ]
  },
  {
   "cell_type": "markdown",
   "metadata": {},
   "source": [
    "##### Modelo de previsão de venda de todas as lojas"
   ]
  },
  {
   "cell_type": "code",
   "execution_count": null,
   "metadata": {},
   "outputs": [],
   "source": [
    "# carrega dados - Vendas\n",
    "vendas = pd.read_csv('vendas.csv',sep=',',decimal='.',header = 'infer')\n",
    "vendas.head()\n",
    "\n",
    "# transforma dados\n",
    "vendas['loja'] = vendas['loja'].astype('str')\n",
    "vendas['departamento'] = vendas['departamento'].astype('str')\n",
    "vendas['data'] = pd.to_datetime(vendas.data,infer_datetime_format=True, format=\"%d/%m/%Y\")\n",
    "vendas['semana_de_evento'] = vendas['semana_de_evento'].astype('str')"
   ]
  },
  {
   "cell_type": "code",
   "execution_count": null,
   "metadata": {},
   "outputs": [],
   "source": [
    "vendas.info()\n",
    "vendas.head()"
   ]
  },
  {
   "cell_type": "code",
   "execution_count": null,
   "metadata": {},
   "outputs": [],
   "source": [
    "# Vamos usar apenas o dataset de vendas para fazer a previsão por série temporal\n",
    "# Venda por dia de todas as lojas \n",
    "\n",
    "print(vendas.data.min())\n",
    "print(vendas.data.max())\n",
    "\n",
    "aggregations = {\n",
    "        'venda_semanal': 'sum',\n",
    "               }\n",
    "\n",
    "venda_total = vendas.groupby('data').agg(aggregations)\n",
    "\n",
    "\n",
    "venda_total.head()"
   ]
  },
  {
   "cell_type": "code",
   "execution_count": null,
   "metadata": {},
   "outputs": [],
   "source": [
    "venda_total.info()"
   ]
  },
  {
   "cell_type": "code",
   "execution_count": null,
   "metadata": {},
   "outputs": [],
   "source": [
    "# plot série temporal\n",
    "venda_total['venda_semanal'].plot(title='Venda semanal')\n",
    "\n",
    "# imprime plots\n",
    "plt.show()"
   ]
  },
  {
   "cell_type": "code",
   "execution_count": null,
   "metadata": {},
   "outputs": [],
   "source": [
    "venda_total"
   ]
  },
  {
   "cell_type": "code",
   "execution_count": null,
   "metadata": {},
   "outputs": [],
   "source": [
    "# define frequência semanal\n",
    "venda_semanal = venda_total[['venda_semanal']].asfreq('W-FRI')\n",
    "venda_semanal.info()\n",
    "venda_semanal.head()"
   ]
  },
  {
   "cell_type": "code",
   "execution_count": null,
   "metadata": {},
   "outputs": [],
   "source": [
    "venda_semanal.isnull().sum()"
   ]
  },
  {
   "cell_type": "code",
   "execution_count": null,
   "metadata": {},
   "outputs": [],
   "source": [
    "venda_semanal"
   ]
  },
  {
   "cell_type": "code",
   "execution_count": null,
   "metadata": {},
   "outputs": [],
   "source": [
    "# plot série temporal\n",
    "venda_semanal['venda_semanal'].plot(title='Venda semanal')"
   ]
  },
  {
   "cell_type": "code",
   "execution_count": null,
   "metadata": {},
   "outputs": [],
   "source": [
    "# Train e test\n",
    "train = venda_semanal[:'2012-06-29']\n",
    "test = venda_semanal['2012-07-06':]"
   ]
  },
  {
   "cell_type": "code",
   "execution_count": null,
   "metadata": {},
   "outputs": [],
   "source": [
    "test.shape\n",
    "train.shape"
   ]
  },
  {
   "cell_type": "code",
   "execution_count": null,
   "metadata": {},
   "outputs": [],
   "source": [
    "# Decomposição\n",
    "decomposition = seasonal_decompose(train['venda_semanal'], model='multiplicative')  \n",
    "# teste tambem com model='additive' e veja se você nota alguma diferença\n",
    "\n",
    "# Outra forma possível de plotar a decomposição\n",
    "plt.rc(\"figure\",figsize=(8,4))\n",
    "#plt.figsize=(20, 20)\n",
    "decomposition.plot()\n",
    "plt.show()"
   ]
  },
  {
   "cell_type": "code",
   "execution_count": null,
   "metadata": {},
   "outputs": [],
   "source": [
    "# Buscando o melhor modelo pelo auto_arima\n",
    "arima_model = auto_arima(train, start_p=1, start_q=2,\n",
    "                           max_p=5, max_q=5, m=52,\n",
    "                           start_P=1, seasonal=True,\n",
    "                           d=1, D=1, trace=True,\n",
    "                           error_action='ignore',  \n",
    "                           suppress_warnings=True, \n",
    "                           stepwise=True)\n",
    "\n",
    "arima_model.summary()"
   ]
  },
  {
   "cell_type": "code",
   "execution_count": null,
   "metadata": {},
   "outputs": [],
   "source": [
    "#Fazendo a previsão\n",
    "#n_periods = 17 até 26/10/2012\n",
    "prediction = pd.DataFrame(arima_model.predict(n_periods = 17))\n",
    "prediction.columns = ['predicted_sales']                          \n",
    "\n",
    "#n_periods = 43 até 26/04/2013\n",
    "prediction_6meses = pd.DataFrame(arima_model.predict(n_periods = 43))\n",
    "prediction_6meses.columns = ['predicted_sales']    "
   ]
  },
  {
   "cell_type": "code",
   "execution_count": null,
   "metadata": {},
   "outputs": [],
   "source": [
    "print(prediction.tail())\n",
    "print(prediction_6meses.tail())"
   ]
  },
  {
   "cell_type": "code",
   "execution_count": null,
   "metadata": {},
   "outputs": [],
   "source": [
    "# plot results\n",
    "plt.plot(test['venda_semanal'], color='orange', label= 'teste')\n",
    "plt.plot(prediction, color='red', label = 'previsão')\n",
    "plt.legend()\n",
    "plt.xticks(rotation = 45)\n",
    "plt.show()"
   ]
  },
  {
   "cell_type": "code",
   "execution_count": null,
   "metadata": {},
   "outputs": [],
   "source": [
    "# plot results - 6 meses\n",
    "plt.plot(test['venda_semanal'], color='orange', label= 'teste')\n",
    "plt.plot(prediction_6meses, color='red', label = 'previsão')\n",
    "plt.legend()\n",
    "plt.xticks(rotation = 45)\n",
    "plt.show()"
   ]
  },
  {
   "cell_type": "code",
   "execution_count": null,
   "metadata": {},
   "outputs": [],
   "source": [
    "# dataset para medir erro\n",
    "modelo_forecast = pd.concat([train.append(test),prediction['predicted_sales'].rename('previsao')], axis=1, sort=False)\n",
    "modelo_forecast.tail()"
   ]
  },
  {
   "cell_type": "code",
   "execution_count": null,
   "metadata": {},
   "outputs": [],
   "source": [
    "# função reutilizável para cálculo de erros\n",
    "def calculate_forecast_errors(df, prediction_size):\n",
    "    \n",
    "    df = df.copy()\n",
    "    \n",
    "    df['e'] = df['venda_semanal'] - df['previsao']\n",
    "    df['p'] = 100 * df['e'] / df['venda_semanal']\n",
    "    \n",
    "    predicted_part = df[-prediction_size:]\n",
    "    \n",
    "    error_mean = lambda error_name: np.mean(np.abs(predicted_part[error_name]))\n",
    "    \n",
    "    return {'MAPE': error_mean('p'), 'MAE': error_mean('e')}"
   ]
  },
  {
   "cell_type": "code",
   "execution_count": null,
   "metadata": {},
   "outputs": [],
   "source": [
    "# métricas de erro\n",
    "for err_name, err_value in calculate_forecast_errors(modelo_forecast, len(test)).items():\n",
    "    print(err_name, err_value)"
   ]
  },
  {
   "cell_type": "markdown",
   "metadata": {},
   "source": [
    "#### Modelo de previsão de venda para cada loja ( As lojas escolhidas foram as lojas do cluster 0 e 4 - 19 lojas)"
   ]
  },
  {
   "cell_type": "code",
   "execution_count": null,
   "metadata": {},
   "outputs": [],
   "source": [
    "# Tomando como base a análise de cluster foram selecionadas 19 lojas pertencentes aos clusters 0 e 4. Esses 2 clusters foram\n",
    "# selecionados por representarem 63% da venda total no período de 05/02/2010 a 26/10/2012\n",
    "\n",
    "# Modelo para loja individual\n",
    "# Só é preciso modificar a variável cod_loja\n",
    "# Não iremos fazer um modelo para cada uma das 19 lojas, mas vamos apresentar o códido utilizado para previsão de cada loja\n",
    "# Um exmplo com a loja 1\n",
    "\n",
    "# lojas selecionadas: 1,2,4,6,8,10,11,13,14,19,20,23,24,27,31,32,39,40,41"
   ]
  },
  {
   "cell_type": "code",
   "execution_count": null,
   "metadata": {},
   "outputs": [],
   "source": [
    "# Venda semanal da loja 1 \n",
    "\n",
    "cod_loja ='1'\n",
    "\n",
    "vendas_L1 = vendas[(vendas['loja'] == cod_loja)]\n",
    "                   \n",
    "print(vendas_L1.data.min())\n",
    "print(vendas_L1.data.max())\n",
    "\n",
    "aggregations_L1 = {'venda_semanal': 'sum'}\n",
    "\n",
    "venda_total_L1 = vendas_L1.groupby('data').agg(aggregations_L1)\n",
    "\n",
    "venda_total_L1.head()"
   ]
  },
  {
   "cell_type": "code",
   "execution_count": null,
   "metadata": {},
   "outputs": [],
   "source": [
    "# define frequência semanal\n",
    "venda_semanal_L1 = venda_total_L1[['venda_semanal']].asfreq('W-FRI')\n",
    "venda_semanal_L1.info()\n",
    "venda_semanal_L1.head()"
   ]
  },
  {
   "cell_type": "code",
   "execution_count": null,
   "metadata": {},
   "outputs": [],
   "source": [
    "# plot série temporal\n",
    "venda_semanal_L1['venda_semanal'].plot(title='Venda semanal')"
   ]
  },
  {
   "cell_type": "code",
   "execution_count": null,
   "metadata": {},
   "outputs": [],
   "source": [
    "# Train e test\n",
    "train_L1 = venda_semanal_L1[:'2012-06-29']\n",
    "test_L1 = venda_semanal_L1['2012-07-06':]"
   ]
  },
  {
   "cell_type": "code",
   "execution_count": null,
   "metadata": {},
   "outputs": [],
   "source": [
    "# descomposição\n",
    "decomposition_L1 = seasonal_decompose(train_L1['venda_semanal'], model='multiplicative')  \n",
    "# teste tambem com model='additive' e veja se você nota alguma diferença\n",
    "\n",
    "# Outra forma possível de plotar a decomposição\n",
    "plt.figsize=(10, 7)\n",
    "decomposition_L1.plot()\n",
    "plt.show()"
   ]
  },
  {
   "cell_type": "code",
   "execution_count": null,
   "metadata": {},
   "outputs": [],
   "source": [
    "#Buscando o modelo com a melhor performance\n",
    "arima_model_L1 = auto_arima(train_L1, start_p=1, start_q=2,\n",
    "                           max_p=5, max_q=5, m=52,\n",
    "                           start_P=1, seasonal=True,\n",
    "                           d=1, D=1, trace=True,\n",
    "                           error_action='ignore',  \n",
    "                           suppress_warnings=True, \n",
    "                           stepwise=True)\n",
    "arima_model_L1.summary()"
   ]
  },
  {
   "cell_type": "code",
   "execution_count": null,
   "metadata": {},
   "outputs": [],
   "source": [
    "#n_periods = 17 até 26/10/2012\n",
    "prediction_L1 = pd.DataFrame(arima_model_L1.predict(n_periods = 17))\n",
    "prediction_L1.columns = ['predicted_sales']                       \n",
    "\n",
    "#n_periods = 43 até 26/04/2013\n",
    "prediction_6meses_L1 = pd.DataFrame(arima_model_L1.predict(n_periods = 43))\n",
    "prediction_6meses_L1.columns = ['predicted_sales']    "
   ]
  },
  {
   "cell_type": "code",
   "execution_count": null,
   "metadata": {},
   "outputs": [],
   "source": [
    "print(prediction_L1.tail())\n",
    "print(prediction_6meses_L1.tail())"
   ]
  },
  {
   "cell_type": "code",
   "execution_count": null,
   "metadata": {},
   "outputs": [],
   "source": [
    "# plot results - L1\n",
    "plt.plot(test_L1['venda_semanal'], color='orange', label= 'teste')\n",
    "plt.plot(prediction_L1, color='red', label = 'previsão')\n",
    "plt.legend()\n",
    "plt.xticks(rotation = 45)\n",
    "plt.show()"
   ]
  },
  {
   "cell_type": "code",
   "execution_count": null,
   "metadata": {},
   "outputs": [],
   "source": [
    "#plot results - 6 meses\n",
    "plt.plot(test_L1['venda_semanal'], color='orange', label= 'teste')\n",
    "plt.plot(prediction_6meses_L1, color='red', label = 'previsão')\n",
    "plt.legend()\n",
    "plt.xticks(rotation = 45)\n",
    "plt.show()"
   ]
  },
  {
   "cell_type": "code",
   "execution_count": null,
   "metadata": {},
   "outputs": [],
   "source": [
    "# dataset para medir erro\n",
    "modelo_forecast_L1 = pd.concat([train_L1.append(test_L1),prediction_L1['predicted_sales'].rename('previsao')], axis=1, sort=False)\n",
    "modelo_forecast_L1.tail()"
   ]
  },
  {
   "cell_type": "code",
   "execution_count": null,
   "metadata": {},
   "outputs": [],
   "source": [
    "# métricas de erro\n",
    "for err_name, err_value in calculate_forecast_errors(modelo_forecast_L1, len(test_L1)).items():\n",
    "    print(err_name, err_value)"
   ]
  },
  {
   "cell_type": "markdown",
   "metadata": {},
   "source": [
    "#### Previsão do cluster 0"
   ]
  },
  {
   "cell_type": "code",
   "execution_count": null,
   "metadata": {},
   "outputs": [],
   "source": [
    "# Venda semanal do cluster 0\n",
    "# Iremos prever a venda média por semana das lojas do cluster 0\n",
    "\n",
    "cluster_zero = ['10','13','14','19','20','23','24','27','4','40']\n",
    "\n",
    "def listaFiltro(dataframe, valores):\n",
    "    return dataframe.loc[dataframe['loja'].isin(valores)]\n",
    "\n",
    "\n",
    "vendas_C0 = listaFiltro(vendas, cluster_zero)\n",
    "vendas_C0\n",
    "\n",
    "\n",
    "print(vendas_C0.data.min())\n",
    "print(vendas_C0.data.max())\n",
    "\n",
    "aggregations = {'venda_semanal': 'mean'}\n",
    "\n",
    "venda_total_C0 = vendas_C0.groupby('data').agg(aggregations)\n",
    "\n",
    "\n",
    "venda_total_C0.head()"
   ]
  },
  {
   "cell_type": "code",
   "execution_count": null,
   "metadata": {},
   "outputs": [],
   "source": [
    "# define frequência semanal\n",
    "venda_semanal_C0 = venda_total_C0[['venda_semanal']].asfreq('W-FRI')\n",
    "venda_semanal_C0.info()\n",
    "venda_semanal_C0.head()"
   ]
  },
  {
   "cell_type": "code",
   "execution_count": null,
   "metadata": {},
   "outputs": [],
   "source": [
    "# plot série temporal\n",
    "plt.rc(\"figure\",figsize=(15,5))\n",
    "venda_semanal_C0.plot(title='Venda semanal')"
   ]
  },
  {
   "cell_type": "code",
   "execution_count": null,
   "metadata": {},
   "outputs": [],
   "source": [
    "venda_semanal_C0.isnull().sum()"
   ]
  },
  {
   "cell_type": "code",
   "execution_count": null,
   "metadata": {},
   "outputs": [],
   "source": [
    "# Train e test\n",
    "train_C0 = venda_semanal_C0[:'2012-06-29']\n",
    "test_C0 = venda_semanal_C0['2012-07-06':]"
   ]
  },
  {
   "cell_type": "code",
   "execution_count": null,
   "metadata": {},
   "outputs": [],
   "source": [
    "# Decomposição\n",
    "decomposition_C0 = seasonal_decompose(train_C0, model='multiplicative')  \n",
    "# teste tambem com model='additive' e veja se você nota alguma diferença\n",
    "\n",
    "# Outra forma possível de plotar a decomposição\n",
    "plt.rc(\"figure\",figsize=(20,10))\n",
    "decomposition_C0.plot()\n",
    "plt.show()"
   ]
  },
  {
   "cell_type": "code",
   "execution_count": null,
   "metadata": {},
   "outputs": [],
   "source": [
    "# Buscando o modelo com a melhor performance\n",
    "arima_model_C0 = auto_arima(train_C0, start_p=1, start_q=2,\n",
    "                           max_p=5, max_q=5, m=52,\n",
    "                           start_P=1, seasonal=True,\n",
    "                           d=1, D=1, trace=True,\n",
    "                           error_action='ignore',  \n",
    "                           suppress_warnings=True, \n",
    "                           stepwise=True)\n",
    "arima_model_C0.summary()"
   ]
  },
  {
   "cell_type": "code",
   "execution_count": null,
   "metadata": {},
   "outputs": [],
   "source": [
    "#n_periods = 17 até 26/10/2012\n",
    "prediction_C0 = pd.DataFrame(arima_model_C0.predict(n_periods = 17))\n",
    "prediction_C0.columns = ['predicted_sales']                       \n",
    "\n",
    "#n_periods = 43 até 26/04/2013\n",
    "prediction_6meses_C0 = pd.DataFrame(arima_model_C0.predict(n_periods = 43))\n",
    "prediction_6meses_C0.columns = ['predicted_sales']   "
   ]
  },
  {
   "cell_type": "code",
   "execution_count": null,
   "metadata": {},
   "outputs": [],
   "source": [
    "print(prediction_C0.tail())\n",
    "print(prediction_6meses_C0.tail())"
   ]
  },
  {
   "cell_type": "code",
   "execution_count": null,
   "metadata": {},
   "outputs": [],
   "source": [
    "# plot results - C0\n",
    "plt.rc(\"figure\",figsize=(15,5))\n",
    "plt.plot(test_C0, color='orange', label= 'teste')\n",
    "plt.plot(prediction_C0, color='red', label = 'previsão')\n",
    "plt.legend()\n",
    "plt.xticks(rotation = 45)\n",
    "plt.show()"
   ]
  },
  {
   "cell_type": "code",
   "execution_count": null,
   "metadata": {},
   "outputs": [],
   "source": [
    "#plot results - C0 - 6 meses\n",
    "plt.plot(test_C0, color='orange', label= 'teste')\n",
    "plt.plot(prediction_6meses_C0, color='red', label = 'previsão')\n",
    "plt.legend()\n",
    "plt.xticks(rotation = 45)\n",
    "plt.show()"
   ]
  },
  {
   "cell_type": "code",
   "execution_count": null,
   "metadata": {},
   "outputs": [],
   "source": [
    "# dataset para medir erro\n",
    "modelo_forecast_C0 = pd.concat([train_C0.append(test_C0),prediction_C0['predicted_sales'].rename('previsao')], axis=1, sort=False)\n",
    "modelo_forecast_C0.tail()"
   ]
  },
  {
   "cell_type": "code",
   "execution_count": null,
   "metadata": {},
   "outputs": [],
   "source": [
    "# métricas de erro\n",
    "for err_name, err_value in calculate_forecast_errors(modelo_forecast_C0, len(test_C0)).items():\n",
    "    print(err_name, err_value)"
   ]
  },
  {
   "cell_type": "markdown",
   "metadata": {},
   "source": [
    "#### Previsão cluster 4"
   ]
  },
  {
   "cell_type": "code",
   "execution_count": null,
   "metadata": {},
   "outputs": [],
   "source": [
    "# Venda semanal do cluster 4\n",
    "# Usaremos a venda média por semana das lojas do cluster 4\n",
    "\n",
    "cluster_quatro = ['1','11','2','31','32','39','41','6','8']\n",
    "\n",
    "def listaFiltro(dataframe, valores):\n",
    "    return dataframe.loc[dataframe['loja'].isin(valores)]\n",
    "\n",
    "\n",
    "vendas_C4 = listaFiltro(vendas, cluster_quatro)\n",
    "vendas_C4\n",
    "\n",
    "\n",
    "print(vendas_C4.data.min())\n",
    "print(vendas_C4.data.max())\n",
    "\n",
    "aggregations_C4 = {'venda_semanal': 'mean'}\n",
    "\n",
    "venda_total_C4 = vendas_C4.groupby('data').agg(aggregations_C4)\n",
    "\n",
    "\n",
    "venda_total_C4.head()"
   ]
  },
  {
   "cell_type": "code",
   "execution_count": null,
   "metadata": {},
   "outputs": [],
   "source": [
    "# define frequência semanal\n",
    "venda_semanal_C4 = venda_total_C4[['venda_semanal']].asfreq('W-FRI')\n",
    "venda_semanal_C4.info()\n",
    "venda_semanal_C4.head()"
   ]
  },
  {
   "cell_type": "code",
   "execution_count": null,
   "metadata": {},
   "outputs": [],
   "source": [
    "# plot série temporal\n",
    "venda_semanal_C4.plot(title='Venda semanal')"
   ]
  },
  {
   "cell_type": "code",
   "execution_count": null,
   "metadata": {},
   "outputs": [],
   "source": [
    "# Train e test\n",
    "train_C4 = venda_semanal_C4[:'2012-06-29']\n",
    "test_C4 = venda_semanal_C4['2012-07-06':]"
   ]
  },
  {
   "cell_type": "code",
   "execution_count": null,
   "metadata": {},
   "outputs": [],
   "source": [
    "# Decomposição\n",
    "decomposition_C4 = seasonal_decompose(train_C4['venda_semanal'], model='multiplicative')  \n",
    "# teste tambem com model='additive' e veja se você nota alguma diferença\n",
    "\n",
    "# Outra forma possível de plotar a decomposição\n",
    "plt.rc(\"figure\",figsize=(20,10))\n",
    "decomposition_C4.plot()\n",
    "plt.show()"
   ]
  },
  {
   "cell_type": "code",
   "execution_count": null,
   "metadata": {},
   "outputs": [],
   "source": [
    "# Buscando o modelo com a melhor performance\n",
    "arima_model_C4 = auto_arima(train_C4, start_p=1, start_q=2,\n",
    "                           max_p=5, max_q=5, m=52,\n",
    "                           start_P=1, seasonal=True,\n",
    "                           d=1, D=1, trace=True,\n",
    "                           error_action='ignore',\n",
    "                           suppress_warnings=True, \n",
    "                           stepwise=True)\n",
    "arima_model_C4.summary()"
   ]
  },
  {
   "cell_type": "code",
   "execution_count": null,
   "metadata": {},
   "outputs": [],
   "source": [
    "#n_periods = 17 até 26/10/2012\n",
    "prediction_C4 = pd.DataFrame(arima_model_C4.predict(n_periods = 17))\n",
    "prediction_C4.columns = ['predicted_sales']                       \n",
    "\n",
    "#n_periods = 43 até 26/04/2013\n",
    "prediction_6meses_C4 = pd.DataFrame(arima_model_C4.predict(n_periods = 43))\n",
    "prediction_6meses_C4.columns = ['predicted_sales']  "
   ]
  },
  {
   "cell_type": "code",
   "execution_count": null,
   "metadata": {},
   "outputs": [],
   "source": [
    "print(prediction_C4.tail())\n",
    "print(prediction_6meses_C4.tail())"
   ]
  },
  {
   "cell_type": "code",
   "execution_count": null,
   "metadata": {},
   "outputs": [],
   "source": [
    "# plot results - C0\n",
    "plt.rc(\"figure\",figsize=(15,5))\n",
    "plt.plot(test_C4['venda_semanal'], color='orange', label= 'teste')\n",
    "plt.plot(prediction_C4, color='red', label = 'previsão')\n",
    "plt.legend()\n",
    "plt.xticks(rotation = 45)\n",
    "plt.show()"
   ]
  },
  {
   "cell_type": "code",
   "execution_count": null,
   "metadata": {},
   "outputs": [],
   "source": [
    "#plot results - C0 - 6 meses\n",
    "plt.plot(test_C4['venda_semanal'], color='orange', label= 'teste')\n",
    "plt.plot(prediction_6meses_C4, color='red', label = 'previsão')\n",
    "plt.legend()\n",
    "plt.xticks(rotation = 45)\n",
    "plt.show()"
   ]
  },
  {
   "cell_type": "code",
   "execution_count": null,
   "metadata": {},
   "outputs": [],
   "source": [
    "# dataset para medir erro\n",
    "modelo_forecast_C4 = pd.concat([train_C4.append(test_C4),prediction_C4['predicted_sales'].rename('previsao')], axis=1, sort=False)\n",
    "modelo_forecast_C4.tail()"
   ]
  },
  {
   "cell_type": "code",
   "execution_count": null,
   "metadata": {},
   "outputs": [],
   "source": [
    "# métricas de erro\n",
    "for err_name, err_value in calculate_forecast_errors(modelo_forecast_C4, len(test_C4)).items():\n",
    "    print(err_name, err_value)"
   ]
  }
 ],
 "metadata": {
  "kernelspec": {
   "display_name": "Python 3",
   "language": "python",
   "name": "python3"
  },
  "language_info": {
   "codemirror_mode": {
    "name": "ipython",
    "version": 3
   },
   "file_extension": ".py",
   "mimetype": "text/x-python",
   "name": "python",
   "nbconvert_exporter": "python",
   "pygments_lexer": "ipython3",
   "version": "3.7.6"
  }
 },
 "nbformat": 4,
 "nbformat_minor": 4
}
